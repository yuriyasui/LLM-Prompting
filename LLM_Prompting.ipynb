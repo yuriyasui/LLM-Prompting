{
  "nbformat": 4,
  "nbformat_minor": 0,
  "metadata": {
    "colab": {
      "provenance": [],
      "include_colab_link": true
    },
    "kernelspec": {
      "name": "python3",
      "display_name": "Python 3"
    },
    "language_info": {
      "name": "python"
    }
  },
  "cells": [
    {
      "cell_type": "markdown",
      "metadata": {
        "id": "view-in-github",
        "colab_type": "text"
      },
      "source": [
        "<a href=\"https://colab.research.google.com/github/yuriyasui/LLM-Prompting/blob/main/LLM_Prompting.ipynb\" target=\"_parent\"><img src=\"https://colab.research.google.com/assets/colab-badge.svg\" alt=\"Open In Colab\"/></a>"
      ]
    },
    {
      "cell_type": "code",
      "execution_count": null,
      "metadata": {
        "colab": {
          "base_uri": "https://localhost:8080/"
        },
        "id": "inK6XnYgjYRC",
        "outputId": "6d4cf6a4-934e-40bd-8f37-a0b27e4a3440"
      },
      "outputs": [
        {
          "output_type": "stream",
          "name": "stdout",
          "text": [
            "Installing Google Cloud Platform ......\n",
            "\u001b[2K     \u001b[90m━━━━━━━━━━━━━━━━━━━━━━━━━━━━━━━━━━━━━━━━\u001b[0m \u001b[32m4.3/4.3 MB\u001b[0m \u001b[31m25.4 MB/s\u001b[0m eta \u001b[36m0:00:00\u001b[0m\n",
            "\u001b[?25hThere will be popup asking permission to access your Google credentials. Click Allow and follow subsequent steps to grant access\n",
            "Updated property [core/project].\n",
            "elaborate-leaf-417505\n"
          ]
        }
      ],
      "source": [
        "# @title GCP Config\n",
        "\n",
        "print(\"Installing Google Cloud Platform ......\")\n",
        "!pip install --upgrade google-cloud-aiplatform --quiet\n",
        "\n",
        "project_id = \"elaborate-leaf-417505\"\n",
        "\n",
        "print(\"There will be popup asking permission to access your Google credentials. Click Allow and follow subsequent steps to grant access\")\n",
        "from google.colab import auth as google_auth\n",
        "google_auth.authenticate_user(project_id=project_id)\n",
        "!gcloud config set project {project_id}\n",
        "!gcloud config get-value project\n",
        "\n",
        "import vertexai\n",
        "from vertexai.preview.generative_models import GenerativeModel, GenerationConfig, Image, Content, Part"
      ]
    },
    {
      "cell_type": "code",
      "source": [
        "# @title Installing 3rd Party Modules\n",
        "\n",
        "print(\"Installing ....\")\n",
        "!pip install -U langchain bs4 --quiet\n",
        "import bs4\n",
        "from langchain.document_loaders import WebBaseLoader"
      ],
      "metadata": {
        "colab": {
          "base_uri": "https://localhost:8080/"
        },
        "id": "gzj9e7hbO1ew",
        "outputId": "50786527-eaa2-41ff-aca3-94db5d60b59e"
      },
      "execution_count": null,
      "outputs": [
        {
          "output_type": "stream",
          "name": "stdout",
          "text": [
            "Installing ....\n",
            "\u001b[2K     \u001b[90m━━━━━━━━━━━━━━━━━━━━━━━━━━━━━━━━━━━━━━━━\u001b[0m \u001b[32m810.5/810.5 kB\u001b[0m \u001b[31m9.7 MB/s\u001b[0m eta \u001b[36m0:00:00\u001b[0m\n",
            "\u001b[2K     \u001b[90m━━━━━━━━━━━━━━━━━━━━━━━━━━━━━━━━━━━━━━━━\u001b[0m \u001b[32m1.8/1.8 MB\u001b[0m \u001b[31m47.6 MB/s\u001b[0m eta \u001b[36m0:00:00\u001b[0m\n",
            "\u001b[2K     \u001b[90m━━━━━━━━━━━━━━━━━━━━━━━━━━━━━━━━━━━━━━━━\u001b[0m \u001b[32m273.9/273.9 kB\u001b[0m \u001b[31m27.2 MB/s\u001b[0m eta \u001b[36m0:00:00\u001b[0m\n",
            "\u001b[2K     \u001b[90m━━━━━━━━━━━━━━━━━━━━━━━━━━━━━━━━━━━━━━━━\u001b[0m \u001b[32m86.9/86.9 kB\u001b[0m \u001b[31m10.9 MB/s\u001b[0m eta \u001b[36m0:00:00\u001b[0m\n",
            "\u001b[2K     \u001b[90m━━━━━━━━━━━━━━━━━━━━━━━━━━━━━━━━━━━━━━━━\u001b[0m \u001b[32m49.4/49.4 kB\u001b[0m \u001b[31m6.6 MB/s\u001b[0m eta \u001b[36m0:00:00\u001b[0m\n",
            "\u001b[2K     \u001b[90m━━━━━━━━━━━━━━━━━━━━━━━━━━━━━━━━━━━━━━━━\u001b[0m \u001b[32m53.0/53.0 kB\u001b[0m \u001b[31m6.4 MB/s\u001b[0m eta \u001b[36m0:00:00\u001b[0m\n",
            "\u001b[2K     \u001b[90m━━━━━━━━━━━━━━━━━━━━━━━━━━━━━━━━━━━━━━━━\u001b[0m \u001b[32m144.8/144.8 kB\u001b[0m \u001b[31m12.0 MB/s\u001b[0m eta \u001b[36m0:00:00\u001b[0m\n",
            "\u001b[?25h"
          ]
        }
      ]
    },
    {
      "cell_type": "code",
      "source": [
        "# @title Document Loading: Web Scrapping Multiple Issues\n",
        "\n",
        "web_paths = (\n",
        "    # \"https://github.com/sympy/sympy/issues/26355\",\n",
        "    # \"https://github.com/sympy/sympy/issues/26329\",\n",
        "    # \"https://github.com/sympy/sympy/issues/26319\",\n",
        "    \"https://www.sentinelone.com/blog/exit-sandman-how-sentinelone-deflects-apt-level-identity-security-risks/\",\n",
        "    )\n",
        "\n",
        "context = \"\"\n",
        "for path in web_paths:\n",
        "    loader = WebBaseLoader(\n",
        "    web_paths=(path,),\n",
        "    bs_kwargs={\n",
        "        \"parse_only\": bs4.SoupStrainer(\n",
        "            # class_=(\"d-block comment-body markdown-body js-comment-body title\")\n",
        "            class_=(\"entry-title\", \"entry-content\")\n",
        "            # class_=(\"entry-title\")\n",
        "        )\n",
        "    },\n",
        ")\n",
        "    docs = loader.load()\n",
        "    context += docs[0].page_content\n",
        "\n",
        "print(context)"
      ],
      "metadata": {
        "colab": {
          "base_uri": "https://localhost:8080/"
        },
        "id": "K4GxzJEsPYTI",
        "outputId": "fb226418-18e5-476c-830d-aee71444cf37"
      },
      "execution_count": null,
      "outputs": [
        {
          "output_type": "stream",
          "name": "stdout",
          "text": [
            "Exit Sandman | How SentinelOne Deflects APT-Level Identity Security Risks\n",
            "\n",
            "\n",
            "\n",
            "\n",
            "\n",
            "\n",
            "\n",
            "\n",
            "\n",
            "\n",
            "\n",
            "\n",
            "\n",
            "Information theft and the number of data breaches rooted in identity-based risks are rising as attackers continue to exploit vulnerabilities and find ways to evade detection. This makes early detection one of the most critical pillars of defense across today’s attack surfaces. As identity-based threats continue to develop, organizations that focus on advanced detection and response can protect their data from skilled adversaries.\n",
            "Advanced persistent threats (APTs) like Sandman, for example, have been observed using identity-based attacks to achieve initial access and lateral movement. These kinds of threat groups are not looking for ransom payments, meaning information theft is their most likely objective.\n",
            "Increasing cases of information theft put organizations at risk of cyber espionage, financial loss, and brand damage. For organizations to counter such threats, early discovery is key. In this post, we pinpoint how robust identity security measures can help mitigate the tactics, techniques, and procedures (TTPs) used by threat groups like Sandman APT.\n",
            "\n",
            "\n",
            "\n",
            "Case Study | Identity-Based TTPs Used by Sandman APT\n",
            "In September 2023, SentinelLabs exposed a series of attacks targeting telecommunication providers in the Middle East, Western Europe, and South Asia. This was the work of a previously undiscovered threat actor they dubbed “Sandman”.\n",
            "In their findings, SentinelLabs researchers noted that Sandman’s activities were characterized by strategic lateral movement to targeted workstations and minimal engagement. This suggests a deliberate approach aimed at achieving the set objectives while minimizing the risk of detection.\n",
            "Sandman likely targeted major telcos for espionage purposes, using credential theft techniques and limiting engagement to evade detection. After infiltration, the threat group would wait before proceeding with their activities, suggesting a reliance on stealth for malicious purposes.\n",
            "New Attack Tactics, Same Attack Cycle\n",
            "Although the intrusions were detected and interrupted before the threat actor could progress the attacks, they illustrate how advanced intrusions still conform to a typical attack chain depicted below.\n",
            "\n",
            "In this attack chain, threat actors will gather intelligence to identify the target and any exploitable entry methods. They will compromise an internal endpoint system to gain access and establish a foothold. Once in, they enter the persistence cycle of gathering information, identifying targets, moving laterally, and establishing backdoors while staying undetected. They will remain in this cycle until they finally execute their planned objectives and complete their mission.\n",
            "Sandman APT established a foothold within the target organization after stealing administrative credentials and gathering intelligence through internal reconnaissance. Then, the APT infiltrated specifically targeted workstations using the pass-the-hash (PtH) technique over the NTLM authentication protocol. These tactics can be counteracted by having robust identity security controls in place.\n",
            "To protect against attacks like those perpetrated by Sandman, SentinelOne suggests looking at its Singularity Identity and Singularity Hologram cyber deception solutions for cyber risk mitigation.\n",
            "Preventing Identity-Based Attacks with Singularity Identity\n",
            "As part of the SentinelOne agent, Singularity Identity protects an organization’s digital identities and identity infrastructure by safeguarding credentials on the endpoints and Active Directory (AD) objects, including accounts, groups, domain controllers, and more.\n",
            "Singularity Identity provides cyberattack prevention by protecting identities through concealment and misdirection. After attackers like Sandman establish a foothold on an endpoint, they conduct local and network reconnaissance for usable identity data (e.g., credentials, passwords, AD objects, etc.) because masquerading as legitimate users provides access to resources while minimizing detection. This activity also helps them identify high-value assets such as privileged or sensitive accounts, servers, and data for future attacks.\n",
            "As they gather intelligence, Singularity Identity conceals the locally stored credentials from discovery, whether memory-resident or stored locally in applications and the operating system. It also identifies AD queries attempting to harvest data from the domain controller like members of privileged groups, domain controllers, or service principal names (SPNs), and conceals the results. It then creates an alert on the SentinelOne console while giving decoy identity data as lures and bait so the attackers do not suspect anything is wrong and continue their activities.\n",
            "When performing PtH, attackers may capture valid password hashes for accounts using a credential access technique. Captured hashes are used with PtH to authenticate as that user. Once authenticated, PtH performs actions on local or remote systems. Singularity Identity detects and alerts on this and many other credential-based attacks.\n",
            "Additionally, Singularity Identity supports deploying deceptive credentials across different storage locations, such as browsers, keychains, Windows Credential Manager, and password managers. Credentials taken from these locations will generate an alert and attackers are misdirected away from a production asset.\n",
            "\n",
            "Preventing Identity-Based Attacks with Singularity Hologram\n",
            "The cyber deception technology of Singularity Hologram takes protection one step further by supplying enterprise-wide decoys to engage the attackers. Hologram is capable of detecting attacks using alternate authentication mechanisms such as the PtH technique. The solution then alerts on attempts to use such methods to move laterally into decoys.\n",
            "The decoy identity data can point to a black hole destination IP or system. However, having Hologram decoys in the network adds another layer of realism by providing a destination and service for the bait and lures. It also provides a way to engage with attackers like Sandman, who rely on minimal engagement to avoid detection.\n",
            "Hologram learns the environment and can automatically create and deploy these decoys adjacent to production systems on the same network segments. These decoys match the production environment, mimicking systems and services throughout the network. They also allow defenders to collect data on the attack, as they record all attack activity that engages with them on the network, in memory, and on local storage.\n",
            "Conclusion\n",
            "Imagine being an attacker that breaks into a network with the goal of stealing enterprise credentials. After accessing the network resource the attacker is then kicked out because the defense mechanisms in place detected the attempted credential theft, misdirected the attack to a decoy, and recorded all the malicious activity. Such is the power of SentinelOne’s identity security and cyber deception solutions.\n",
            "As more APTs go the route of leveraging stealthy, prolonged attacks through identity-based TTPs, focusing on early detection and vigilant monitoring allows organizations to stay steps ahead of even the most advanced threats.\n",
            "SentinelOne’s Identity Suite delivers robust defenses to defend the infrastructure that houses business-critical digital identities. To learn more or request a demo, please visit https://www.sentinelone.com/lp/identity-suite-demo/.\n",
            "\n",
            "\n",
            "\n",
            "\n",
            "Get a Demo of SentinelOne's Identity Suite\n",
            "Bringing Identity to XDR. Ready to experience the market’s leading identity security suite?\n",
            "\n",
            "\n",
            "Request A Demo\n",
            "\n",
            "\n",
            "\n",
            "\n",
            "\n",
            "\n",
            "\n",
            "\n",
            "\n",
            "\n"
          ]
        }
      ]
    },
    {
      "cell_type": "code",
      "source": [
        "# @title Generate response\n",
        "\n",
        "#To do: Write your root prompt using Persona Task Context technique\n",
        "root_prompt = \"\"\"Summarize these issues\"\"\"\n",
        "# root_prompt = \"\"\"Does the following content inform about specific malware? If so, please explain what kind of malware it is talking about?\"\"\"\n",
        "\n",
        "def send_to_gemini():\n",
        "    model = GenerativeModel(\"gemini-pro\")\n",
        "    prompt = f\"\"\"{root_prompt}\n",
        "    {context}\n",
        "    \"\"\"\n",
        "    responses = model.generate_content(\n",
        "        prompt,\n",
        "        generation_config={\n",
        "            \"max_output_tokens\": 4000,\n",
        "            \"temperature\": 0.2,\n",
        "            \"top_p\": 1,\n",
        "            \"top_k\": 32\n",
        "        },stream=True)\n",
        "    data = \"\"\n",
        "    for response in responses:\n",
        "        data += response.text\n",
        "    print(data)\n",
        "    # return data\n",
        "    return\n",
        "\n",
        "send_to_gemini()"
      ],
      "metadata": {
        "colab": {
          "base_uri": "https://localhost:8080/"
        },
        "id": "i-LmKcdlPfqQ",
        "outputId": "a2087349-e41a-48cf-9ad3-10ae9ab69caf"
      },
      "execution_count": null,
      "outputs": [
        {
          "output_type": "stream",
          "name": "stdout",
          "text": [
            "**Identity-Based Security Risks**\n",
            "\n",
            "* Information theft and data breaches are increasing due to identity-based vulnerabilities.\n",
            "* Advanced persistent threats (APTs) like Sandman use identity-based attacks for initial access and lateral movement.\n",
            "* Organizations face risks of cyber espionage, financial loss, and brand damage from information theft.\n",
            "\n",
            "**Case Study: Sandman APT**\n",
            "\n",
            "* Sandman APT targeted telecommunication providers for espionage.\n",
            "* They used credential theft and PtH techniques to infiltrate and move laterally.\n",
            "* Detection and interruption prevented further attacks.\n",
            "\n",
            "**SentinelOne's Identity Security Solutions**\n",
            "\n",
            "* **Singularity Identity:**\n",
            "    * Conceals credentials and AD objects from discovery.\n",
            "    * Detects and alerts on credential-based attacks.\n",
            "    * Deploys deceptive credentials to misdirect attackers.\n",
            "* **Singularity Hologram:**\n",
            "    * Provides enterprise-wide decoys to engage attackers.\n",
            "    * Detects and alerts on PtH and other lateral movement techniques.\n",
            "    * Records attack activity for analysis.\n",
            "\n",
            "**Conclusion**\n",
            "\n",
            "* Early detection and monitoring are crucial for mitigating identity-based threats.\n",
            "* SentinelOne's Identity Suite offers robust defenses to protect digital identities and infrastructure. to protect digital identities and prevent information theft.\n"
          ]
        }
      ]
    }
  ]
}